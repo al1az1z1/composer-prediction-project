{
 "cells": [
  {
   "cell_type": "markdown",
   "id": "193c8b2c",
   "metadata": {},
   "source": [
    "# Preprocessing:"
   ]
  },
  {
   "cell_type": "markdown",
   "id": "70cca3df",
   "metadata": {},
   "source": [
    "Step 1: checking Duplicates"
   ]
  },
  {
   "cell_type": "code",
   "execution_count": 5,
   "id": "1660a012",
   "metadata": {},
   "outputs": [
    {
     "name": "stdout",
     "output_type": "stream",
     "text": [
      "Total unique MIDI files: 1630\n",
      "Total duplicates found: 0\n",
      "\n",
      "No duplicates found.\n"
     ]
    }
   ],
   "source": [
    "import numpy as np\n",
    "np.int = int\n",
    "from pathlib import Path\n",
    "\n",
    "# List of target composers\n",
    "target_composers = ['Bach', 'Beethoven', 'Chopin', 'Mozart']\n",
    "dataset_folder = Path('../data/midi/archive/midiclassics')\n",
    "\n",
    "dataset = []         # [(file_path, composer)]\n",
    "seen_filenames = {}  # filename -> path of first occurrence\n",
    "duplicates = []      # [(filename, duplicate_path, original_path)]\n",
    "\n",
    "for composer in target_composers:\n",
    "    composer_folder = dataset_folder / composer\n",
    "\n",
    "    for file_path in composer_folder.rglob('*'):\n",
    "        if file_path.suffix.lower() in ['.mid', '.midi']:\n",
    "            fname = file_path.name\n",
    "\n",
    "            if fname not in seen_filenames:\n",
    "                seen_filenames[fname] = str(file_path)\n",
    "                dataset.append((str(file_path), composer))\n",
    "            else:\n",
    "                duplicates.append((fname, str(file_path), seen_filenames[fname]))\n",
    "\n",
    "# Summary\n",
    "print(f\"Total unique MIDI files: {len(dataset)}\")\n",
    "print(f\"Total duplicates found: {len(duplicates)}\\n\")\n",
    "\n",
    "if duplicates:\n",
    "    print(\"Duplicate files found (filename, duplicate path, original path):\\n\")\n",
    "    for fname, dup_path, orig_path in duplicates:\n",
    "        print(f\"{fname}\\n  DUP: {dup_path}\\n  ORIG: {orig_path}\\n\")\n",
    "else:\n",
    "    print(\"No duplicates found.\")\n"
   ]
  },
  {
   "cell_type": "code",
   "execution_count": null,
   "id": "e45cd05f",
   "metadata": {},
   "outputs": [],
   "source": [
    "from pathlib import Path\n",
    "from tqdm import tqdm\n",
    "import pretty_midi\n",
    "import numpy as np\n",
    "\n",
    "# Compatibility for older NumPy versions\n",
    "if not hasattr(np, 'int'):\n",
    "    np.int = int\n",
    "\n",
    "target_composers = ['Bach', 'Beethoven', 'Chopin', 'Mozart']\n",
    "\n",
    "# We’re making a function that takes in the file path of a MIDI file and gives us back a numeric array of features\n",
    "def midi_to_feature_array(midi_path):\n",
    "\n",
    "    try:\n",
    "        # using the pretty_midi library\n",
    "        pm = pretty_midi.PrettyMIDI(str(midi_path))  # pm will be an object containing all the instruments, notes, tempos, and other music data from that file(PrettyMIDI needs a string, not a path obj)\n",
    "\n",
    "        # Corrupted files, wrong format will be skipped\n",
    "    except Exception as e: \n",
    "        print(f\"Error reading {midi_path}: {e}\")\n",
    "        return None\n",
    "\n",
    "    # making an empty list rows to hold all the note data we care about\n",
    "    rows = []\n",
    "    for inst in pm.instruments: #  we loop over every instrument in the MIDI file.\n",
    "\n",
    "        #--- preprocessing 1 ----\n",
    "        if inst.is_drum:\n",
    "            continue  # drop drums (we want pitched musical notes like C or D,..) \n",
    "        # --- feature extraction ----\n",
    "        for n in inst.notes:\n",
    "            # keep the raw fields we need (note start/end, pitch, velocity, instrument program)\n",
    "            rows.append([n.start, n.end, n.pitch, n.velocity, inst.program])\n",
    "                #region each notes contains\n",
    "                # n.start -> when the note starts (in seconds).\n",
    "                # n.end -> when the note ends (in seconds).\n",
    "                # n.pitch -> the MIDI pitch number (e.g., 60 = Middle C).\n",
    "                # n.velocity -> how hard the note is played (volume).\n",
    "                # inst.program -> the MIDI instrument number (0 = piano, 40 = violin, etc.).          \n",
    "                #endregion each notes contains\n",
    "\n",
    "    if not rows:\n",
    "        return None  # nothing useful in this file\n",
    "\n",
    "    # We convert the list of notes into a NumPy array\n",
    "    # sorted by x[0] -> start time (so earlier notes come first)\n",
    "    # then by x[2] -> pitch (so if two notes start at the same time, sort by pitch)\n",
    "    # This gives us a consistent order for all notes\n",
    "    notes = np.array(sorted(rows, key=lambda x: (x[0], x[2])), dtype=np.float32)\n",
    "\n",
    "    # unpack columns for readability\n",
    "    starts, ends, pitch, vel, prog = notes.T\n",
    "    dur = ends - starts  # note duration( We calculate how long each note lasts).\n",
    "\n",
    "    # --- preprocessing 2 ----\n",
    "    # filtering out very short notes (less than 0.0001 seconds).\n",
    "    # remove ultra-short/invalid notes (cleanup)\n",
    "    # MIDI data often contains ultra-short notes that come from bad noisy conversion from another format, or human input glitches.\n",
    "    # These “blips” don’t have real musical meaning and can add noise to our  features, making the model’s job harder.\n",
    "    keep = dur > 1e-4\n",
    "    if not np.any(keep):\n",
    "        return None\n",
    "    # Look at the duration of each note. If it’s long enough, keep that note’s other features (start, pitch, velocity, program) as well. If it’s too short, throw away the whole note row\n",
    "    starts, dur, pitch, vel, prog = starts[keep], dur[keep], pitch[keep], vel[keep], prog[keep]\n",
    "\n",
    "    \n",
    "    # --- feature engineering  ----\n",
    "    # turning the cleaned data into model-friendly numbers\n",
    "    \n",
    "    # time gap between this note and the previous note\n",
    "    dt = np.diff(starts, prepend=starts[0])\n",
    "    dt = np.log1p(dt)  # We take the logarithm of the gaps. Because musical timing can vary the can be tiny gaps vs. long pauses.  logs compress the range so big gaps don’t dominate.\n",
    "\n",
    "    #  pitch change between this note and the previous note.\n",
    "    interval = np.diff(pitch, prepend=pitch[0]) # Positive = up in pitch, negative = down\n",
    "    interval = np.clip(interval, -24, 24)  # We limit (clip) pitch changes to ±24 semitones (two octaves) because large jumps are rare, and extreme values can mess with training\n",
    "\n",
    "    # pc = pitch class -> the position of the note within an octave (0 = C, 1 = C#, … 11 = B).\n",
    "    # This ignores octave number and focuses on note's name.\n",
    "    pc = np.mod(pitch, 12)\n",
    "\n",
    "    # duration relative to time until next note (captures staccato/legato feel)\n",
    "    tnext = np.r_[starts[1:], starts[-1] + dur[-1]]           # tnext = when the next note starts, For the last note, we pretend the “next start” is at the note’s end.\n",
    "    time_to_next = np.clip(tnext - starts, 1e-3, None)        # time until the next note, We clip at 1e-3 so we don’t divide by zero later\n",
    "    dur_ratio = np.clip(dur / time_to_next, 0., 3.)           #  note length relative to the gap until the next note.  Near 1 = legato (notes connected). We clip to [0, 3] to avoid extreme values.\n",
    "\n",
    "    # We stack all our engineered features into a single 2D array\n",
    "    # plus useful raw-ish signals (velocity, program)\n",
    "    #dt -> time gap to previous note\n",
    "    #interval -> pitch change\n",
    "    #pc -> pitch class\n",
    "    #dur_ratio -> duration relative to next note #\n",
    "    feats = np.stack([dt, interval, pc, dur_ratio, vel, prog], axis=1).astype(np.float32)\n",
    "    return feats\n",
    "\n",
    "    # Why we ignored pitch?\n",
    "    # later on we found out using pitch feature dropped the accuracy ( Test Accuracy: dropped from 0.8296 to 0.7996)\n",
    "    # THis 6‑feature set (pc‑based) was cleaner and simpler.\n",
    "    # The new file balanced_chunks_seq70_7features.pkl is not “worse code,” but it changes the learning problem—more noise/features without compensating changes (tuning, capacity, or normalization strategies).\n",
    "    \n",
    "\n",
    "\n",
    "# Look through a root folder to load every MIDI file for that composer to convert them into feature arrays using midi_to_feature_array\n",
    "def load_midi_dataset(root_dir, target_composers):\n",
    "    \n",
    "\n",
    "    data_dict = {} # Keys will be composer names and values will be lists of feature arrays (one per MIDI file for that composer).\n",
    "    root_dir = Path(root_dir) # Path gives us nice methods like .rglob() for finding files\n",
    "    for composer in target_composers: \n",
    "        composer_folder = root_dir / composer # making the full path to this composer’s folder.\n",
    "        if not composer_folder.exists():\n",
    "            print(f\"Warning: Folder not found for {composer}\")\n",
    "            continue\n",
    "\n",
    "        pieces = [] # empty list to hold all the processed pieces for this composer\n",
    "\n",
    "        # We search recursively inside this composer’s folder for files ending in .mid or .midi.\n",
    "        # .rglob(\"*.mid\") finds all .mid files in all subfolders.\n",
    "        midi_files = list(composer_folder.rglob(\"*.mid\")) + list(composer_folder.rglob(\"*.midi\"))\n",
    "\n",
    "        for file_path in tqdm(midi_files, desc=f\"Processing {composer}\"): #  wrap the loop with tqdm so we get a nice progress bar in the terminal.\n",
    "            arr = midi_to_feature_array(file_path)   # calling midi_to_feature_array to actually load it, clean it, and convert it into a numeric feature array for the model.\n",
    "            if arr is not None:\n",
    "                pieces.append(arr)\n",
    "\n",
    "        data_dict[composer] = pieces # storing the list of that composer’s pieces into our main dictionary under their name.\n",
    "        # at final we have 2D arrays looks like \n",
    "        # [ [dt, interval, pc, dur_ratio, vel, prog, pitch],   # note 1\n",
    "        # [dt, interval, pc, dur_ratio, vel, prog, pitch],   # note 2\n",
    "        # ...\n",
    "        # ]\n",
    "\n",
    "        print(f\"Loaded {len(pieces)} pieces for {composer}\")\n",
    "    return data_dict\n",
    "\n",
    "\n"
   ]
  },
  {
   "cell_type": "code",
   "execution_count": 6,
   "id": "1dc7b637",
   "metadata": {},
   "outputs": [
    {
     "name": "stderr",
     "output_type": "stream",
     "text": [
      "Processing Bach:   4%|▍         | 42/1024 [00:02<00:46, 21.05it/s]c:\\Users\\azizi\\anaconda3\\envs\\a511_2\\lib\\site-packages\\pretty_midi\\pretty_midi.py:97: RuntimeWarning: Tempo, Key or Time signature change events found on non-zero tracks.  This is not a valid type 0 or type 1 MIDI file.  Tempo, Key or Time Signature may be wrong.\n",
      "  warnings.warn(\n",
      "Processing Bach: 100%|██████████| 1024/1024 [00:31<00:00, 32.28it/s]\n"
     ]
    },
    {
     "name": "stdout",
     "output_type": "stream",
     "text": [
      "Loaded 1024 pieces for Bach\n"
     ]
    },
    {
     "name": "stderr",
     "output_type": "stream",
     "text": [
      "Processing Beethoven:   6%|▌         | 13/213 [00:00<00:05, 33.58it/s]"
     ]
    },
    {
     "name": "stdout",
     "output_type": "stream",
     "text": [
      "Error reading ..\\data\\midi\\archive\\midiclassics\\Beethoven\\Anhang 14-3.mid: Could not decode key with 3 flats and mode 255\n"
     ]
    },
    {
     "name": "stderr",
     "output_type": "stream",
     "text": [
      "Processing Beethoven: 100%|██████████| 213/213 [00:33<00:00,  6.45it/s]\n"
     ]
    },
    {
     "name": "stdout",
     "output_type": "stream",
     "text": [
      "Loaded 212 pieces for Beethoven\n"
     ]
    },
    {
     "name": "stderr",
     "output_type": "stream",
     "text": [
      "Processing Chopin: 100%|██████████| 136/136 [00:06<00:00, 20.38it/s]\n"
     ]
    },
    {
     "name": "stdout",
     "output_type": "stream",
     "text": [
      "Loaded 136 pieces for Chopin\n"
     ]
    },
    {
     "name": "stderr",
     "output_type": "stream",
     "text": [
      "Processing Mozart:  60%|█████▉    | 154/257 [00:14<00:06, 15.99it/s]"
     ]
    },
    {
     "name": "stdout",
     "output_type": "stream",
     "text": [
      "Error reading ..\\data\\midi\\archive\\midiclassics\\Mozart\\Piano Sonatas\\Nueva carpeta\\K281 Piano Sonata n03 3mov.mid: Could not decode key with 2 flats and mode 2\n"
     ]
    },
    {
     "name": "stderr",
     "output_type": "stream",
     "text": [
      "Processing Mozart: 100%|██████████| 257/257 [00:25<00:00, 10.01it/s]"
     ]
    },
    {
     "name": "stdout",
     "output_type": "stream",
     "text": [
      "Loaded 256 pieces for Mozart\n"
     ]
    },
    {
     "name": "stderr",
     "output_type": "stream",
     "text": [
      "\n"
     ]
    }
   ],
   "source": [
    "# the root directory of all our MIDI data\n",
    "dataset_folder = Path(\"../data/midi/archive/midiclassics\")\n",
    "# Calling the above preprocessing and feature engineering functions \n",
    "parsed_data = load_midi_dataset(dataset_folder, target_composers)"
   ]
  },
  {
   "cell_type": "code",
   "execution_count": null,
   "id": "495a6de8",
   "metadata": {},
   "outputs": [
    {
     "name": "stdout",
     "output_type": "stream",
     "text": [
      "Balanced dataset saved to ../models/RNN/balanced_chunks_seq70.pkl with 10152 chunks.\n"
     ]
    }
   ],
   "source": [
    "import pickle\n",
    "import random\n",
    "from collections import defaultdict\n",
    "import numpy as np\n",
    "\n",
    "\n",
    "\n",
    "# =========================\n",
    "def transpose_chunk(chunk, semitones):\n",
    "    out = chunk.copy()\n",
    "    # shift pitch class (column index 2) by N semitones, wrap to [0..11]\n",
    "    out[:, 2] = np.mod(out[:, 2] + semitones, 12)  # augmentation only\n",
    "    return out\n",
    "\n",
    "def maybe_augment_chunks(chunks, label,\n",
    "                         aug_per_chunk=1,\n",
    "                         semis_choices=(-4, -2, 2, 4),\n",
    "                         targets=(\"Beethoven\", \"Mozart\")):\n",
    "    \"\"\"\n",
    "    If the piece's label/composer is in `targets`, make extra versions of each chunk\n",
    "    by transposing pitch class up/down by a few semitones. This helps class balance\n",
    "    and variety. (Still augmentation, not feature engineering.)\n",
    "    \"\"\"\n",
    "    if label not in targets or aug_per_chunk <= 0:\n",
    "        return chunks\n",
    "    out = []\n",
    "    for ch in chunks:\n",
    "        out.append(ch)  # keep the original\n",
    "        for _ in range(aug_per_chunk):\n",
    "            s = random.choice(semis_choices)\n",
    "            out.append(transpose_chunk(ch, s))  # add an augmented copy\n",
    "    return out\n",
    "\n",
    "\n",
    "\n",
    "# =========================\n",
    "def create_balanced_chunks(data_dict,\n",
    "                           seq_len=70,\n",
    "                           stride=35,\n",
    "                           min_real_notes=50,\n",
    "                           max_chunks_per_piece=20,\n",
    "                           aug_per_chunk=1,\n",
    "                           aug_semis=(-4, -2, 2, 4),\n",
    "                           aug_targets=(\"Beethoven\", \"Mozart\")):\n",
    "    \"\"\"\n",
    "    PREPROCESSING STEPS INSIDE:\n",
    "      - Sliding-window chunking (seq_len, stride)\n",
    "      - Padding short pieces to seq_len\n",
    "      - Filtering chunks with too few real notes\n",
    "      - Capping max chunks per piece (to avoid huge class skew)\n",
    "      - (Then) DATA AUGMENTATION (optional, targeted by label)\n",
    "      - Class balancing by downsampling to the smallest class size\n",
    "    \"\"\"\n",
    "    all_chunks = defaultdict(list)\n",
    "\n",
    "    # Loop over composers and their pieces (parsed_data dict)\n",
    "    for composer, pieces in data_dict.items():\n",
    "        for piece in pieces:\n",
    "            n_notes = len(piece)\n",
    "            chunks_for_piece = []\n",
    "\n",
    "            # --- PREPROCESS: handle short pieces by padding to seq_len\n",
    "            if n_notes < seq_len:\n",
    "                pad_len = seq_len - n_notes\n",
    "                padded = np.vstack([piece, np.zeros((pad_len, piece.shape[1]))])\n",
    "                # keep only if it still has enough real notes\n",
    "                if n_notes >= min_real_notes:\n",
    "                    chunks_for_piece.append(padded)\n",
    "\n",
    "            else:\n",
    "                # --- PREPROCESS: sliding window to make fixed-length chunks\n",
    "                for start in range(0, n_notes - seq_len + 1, stride):\n",
    "                    chunk = piece[start:start + seq_len]\n",
    "                    # --- PREPROCESS: filter chunks with too few real (non-zero) rows\n",
    "                    if np.count_nonzero(np.any(chunk != 0, axis=1)) >= min_real_notes:\n",
    "                        chunks_for_piece.append(chunk)\n",
    "\n",
    "            # --- DATA AUGMENTATION: optional transpositions (by label)\n",
    "            chunks_for_piece = maybe_augment_chunks(\n",
    "                chunks_for_piece, composer,\n",
    "                aug_per_chunk=aug_per_chunk,\n",
    "                semis_choices=aug_semis,\n",
    "                targets=aug_targets\n",
    "            )\n",
    "\n",
    "            # --- PREPROCESS: cap the number of chunks per piece\n",
    "            if len(chunks_for_piece) > max_chunks_per_piece:\n",
    "                chunks_for_piece = random.sample(chunks_for_piece, max_chunks_per_piece)\n",
    "\n",
    "            # collect for this composer\n",
    "            all_chunks[composer].extend(chunks_for_piece)\n",
    "\n",
    "    # --- PREPROCESS: class balancing by downsampling to smallest class size\n",
    "    min_count = min(len(chunks) for chunks in all_chunks.values())\n",
    "    balanced_chunks = []\n",
    "    for composer, chunks in all_chunks.items():\n",
    "        sampled = random.sample(chunks, min_count)  # downsample to balance classes\n",
    "        balanced_chunks.extend([(chunk, composer) for chunk in sampled])\n",
    "\n",
    "    # final shuffle of the balanced set\n",
    "    random.shuffle(balanced_chunks)\n",
    "    return balanced_chunks\n",
    "\n",
    "\n",
    "\n",
    "# =========================\n",
    "balanced_dataset = create_balanced_chunks(\n",
    "    parsed_data,  # <- from your earlier parsing step\n",
    "    seq_len=70, stride=35, min_real_notes=50, max_chunks_per_piece=20,\n",
    "    aug_per_chunk=1, aug_semis=(-4, -2, 2, 4), aug_targets=(\"Beethoven\", \"Mozart\")\n",
    ")\n",
    "\n",
    "\n",
    "# =========================\n",
    "pkl_name = \"../models/RNN/balanced_chunks_seq70.pkl\"\n",
    "with open(pkl_name, \"wb\") as f:\n",
    "    pickle.dump(balanced_dataset, f)\n",
    "print(f\"Balanced dataset saved to {pkl_name} with {len(balanced_dataset)} chunks.\")\n"
   ]
  },
  {
   "cell_type": "markdown",
   "id": "3b77c682",
   "metadata": {},
   "source": [
    "# checking file and shape"
   ]
  },
  {
   "cell_type": "code",
   "execution_count": 9,
   "id": "f29d1f74",
   "metadata": {},
   "outputs": [
    {
     "name": "stdout",
     "output_type": "stream",
     "text": [
      "(10152, 70, 6)\n",
      "(10152,)\n",
      "['Bach' 'Beethoven' 'Chopin' 'Mozart']\n"
     ]
    }
   ],
   "source": [
    "import pickle\n",
    "import numpy as np\n",
    "from sklearn.preprocessing import LabelEncoder\n",
    "\n",
    "\n",
    "# Load the .pkl file\n",
    "with open(\"../models/RNN/balanced_chunks_seq70.pkl\", \"rb\") as f:\n",
    "    balanced_dataset = pickle.load(f)\n",
    "\n",
    "# balanced_dataset is a list of tuples: (chunk_array, composer_label)\n",
    "# Example: [(np.array shape (50, 6), \"Bach\"), (np.array shape (50, 6), \"Mozart\"), ...]\n",
    "\n",
    "# Separate into X (features) and y (labels)\n",
    "X = np.array([chunk for chunk, _ in balanced_dataset], dtype=np.float32)\n",
    "y = np.array([label for _, label in balanced_dataset])\n",
    "\n",
    "# Encode labels\n",
    "le = LabelEncoder()\n",
    "y_encoded = le.fit_transform(y)\n",
    "\n",
    "print(X.shape)          # (num_samples, 50, 6)\n",
    "print(y_encoded.shape)  # (num_samples,)\n",
    "print(le.classes_)      # ['Bach' 'Beethoven' 'Chopin' 'Mozart']"
   ]
  },
  {
   "cell_type": "markdown",
   "id": "d66791ac",
   "metadata": {},
   "source": [
    "#  (sanity check)"
   ]
  },
  {
   "cell_type": "code",
   "execution_count": 10,
   "id": "b21e9b0d",
   "metadata": {},
   "outputs": [
    {
     "name": "stdout",
     "output_type": "stream",
     "text": [
      "dt        min=0.0000 p50=0.0035 p95=0.3483 max=2.4468\n",
      "interval  min=-24.0000 p50=3.0000 p95=21.0000 max=24.0000\n",
      "pc        min=0.0000 p50=5.0000 p95=11.0000 max=11.0000\n",
      "dur_ratio min=0.0021 p50=3.0000 p95=3.0000 max=3.0000\n",
      "velocity  min=1.0000 p50=75.0000 p95=116.0000 max=127.0000\n",
      "program   min=0.0000 p50=0.0000 p95=68.0000 max=120.0000\n"
     ]
    }
   ],
   "source": [
    "# Peek at distributions (sanity check)\n",
    "import numpy as np\n",
    "\n",
    "stacked = np.vstack([c for c,_ in balanced_dataset])  # (N*L, 6)\n",
    "names = [\"dt\",\"interval\",\"pc\",\"dur_ratio\",\"velocity\",\"program\"]\n",
    "for i,n in enumerate(names):\n",
    "    col = stacked[:,i]\n",
    "    col = col[np.isfinite(col)]\n",
    "    print(f\"{n:<9} min={col.min():.4f} p50={np.median(col):.4f} \"\n",
    "          f\"p95={np.percentile(col,95):.4f} max={col.max():.4f}\")"
   ]
  },
  {
   "cell_type": "markdown",
   "id": "14fc4baa",
   "metadata": {},
   "source": [
    "# Count the number of chunks per composer"
   ]
  },
  {
   "cell_type": "code",
   "execution_count": 11,
   "id": "878e0eae",
   "metadata": {},
   "outputs": [
    {
     "name": "stdout",
     "output_type": "stream",
     "text": [
      "Bach: 2538 chunks\n",
      "Beethoven: 2538 chunks\n",
      "Chopin: 2538 chunks\n",
      "Mozart: 2538 chunks\n"
     ]
    }
   ],
   "source": [
    "import numpy as np\n",
    "\n",
    "# Count the number of chunks per composer\n",
    "unique_labels, counts = np.unique(y, return_counts=True)\n",
    "\n",
    "for label, count in zip(unique_labels, counts):\n",
    "    print(f\"{label}: {count} chunks\")\n"
   ]
  },
  {
   "cell_type": "markdown",
   "id": "c3d1ccff",
   "metadata": {},
   "source": [
    "Using pitch and pc "
   ]
  },
  {
   "cell_type": "code",
   "execution_count": 4,
   "id": "13099982",
   "metadata": {},
   "outputs": [
    {
     "name": "stdout",
     "output_type": "stream",
     "text": [
      "Test Accuracy: 0.7996\n",
      "Test Loss: 0.5194\n",
      "\u001b[1m64/64\u001b[0m \u001b[32m━━━━━━━━━━━━━━━━━━━━\u001b[0m\u001b[37m\u001b[0m \u001b[1m1s\u001b[0m 16ms/step\n",
      "\n",
      "Classification Report:\n",
      "              precision    recall  f1-score   support\n",
      "\n",
      "        Bach       0.89      0.90      0.90       508\n",
      "   Beethoven       0.66      0.77      0.71       507\n",
      "      Chopin       0.87      0.82      0.85       508\n",
      "      Mozart       0.80      0.70      0.75       508\n",
      "\n",
      "    accuracy                           0.80      2031\n",
      "   macro avg       0.81      0.80      0.80      2031\n",
      "weighted avg       0.81      0.80      0.80      2031\n",
      "\n"
     ]
    },
    {
     "data": {
      "image/png": "[encoded data removed]",
      "text/plain": [
       "<Figure size 600x500 with 2 Axes>"
      ]
     },
     "metadata": {},
     "output_type": "display_data"
    }
   ],
   "source": [
    "# --- Cell 3: Evaluate & Plot Confusion Matrix ---\n",
    "import numpy as np\n",
    "import matplotlib.pyplot as plt\n",
    "from sklearn.metrics import classification_report, confusion_matrix\n",
    "import seaborn as sns\n",
    "import tensorflow as tf\n",
    "\n",
    "# If loading a saved model instead of using the one just trained:\n",
    "# model = tf.keras.models.load_model(\"final_seq70_model.keras\")\n",
    "\n",
    "# Evaluate\n",
    "loss, acc = model.evaluate([Xn_test, Xp_test], y_test, verbose=0)\n",
    "print(f\"Test Accuracy: {acc:.4f}\")\n",
    "print(f\"Test Loss: {loss:.4f}\")\n",
    "\n",
    "# Predictions\n",
    "y_pred_probs = model.predict([Xn_test, Xp_test])\n",
    "y_pred = np.argmax(y_pred_probs, axis=1)\n",
    "\n",
    "# Classification report\n",
    "print(\"\\nClassification Report:\")\n",
    "print(classification_report(y_test, y_pred, target_names=le.classes_))\n",
    "\n",
    "# Confusion matrix\n",
    "cm = confusion_matrix(y_test, y_pred, normalize='true')\n",
    "\n",
    "# Plot\n",
    "plt.figure(figsize=(6,5))\n",
    "sns.heatmap(cm, annot=True, fmt=\".2f\", cmap=\"Blues\",\n",
    "            xticklabels=le.classes_,\n",
    "            yticklabels=le.classes_)\n",
    "plt.ylabel(\"True label\")\n",
    "plt.xlabel(\"Predicted label\")\n",
    "plt.title(\"Normalized Confusion Matrix — seq=70, transpose, prog-embed\")\n",
    "plt.tight_layout()\n",
    "plt.show()\n"
   ]
  }
 ],
 "metadata": {
  "kernelspec": {
   "display_name": "a511_2",
   "language": "python",
   "name": "python3"
  },
  "language_info": {
   "codemirror_mode": {
    "name": "ipython",
    "version": 3
   },
   "file_extension": ".py",
   "mimetype": "text/x-python",
   "name": "python",
   "nbconvert_exporter": "python",
   "pygments_lexer": "ipython3",
   "version": "3.10.18"
  }
 },
 "nbformat": 4,
 "nbformat_minor": 5
}
