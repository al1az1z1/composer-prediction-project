{
 "cells": [
  {
   "cell_type": "code",
   "execution_count": 13,
   "id": "96853565",
   "metadata": {},
   "outputs": [],
   "source": [
    "from pathlib import Path\n",
    "from collections import defaultdict\n",
    "from typing import Dict, List\n",
    "import os\n",
    "import sys\n",
    "\n",
    "import numpy as np\n",
    "import pandas as pd\n",
    "import pretty_midi\n",
    "from tqdm import tqdm\n",
    "\n",
    "\n",
    "import matplotlib.pyplot as plt\n",
    "import seaborn as sns\n",
    "\n",
    "# adding preprocessing directory to path\n",
    "current_dir = os.path.dirname(os.path.abspath(\"preprocessing\"))\n",
    "parent_dir = os.path.join(current_dir, '..')\n",
    "sys.path.append(parent_dir)\n",
    "\n",
    "from preprocessing.audio_to_spectrogram import midi_track_length\n",
    "\n",
    "sns.set_theme()"
   ]
  },
  {
   "cell_type": "markdown",
   "id": "4dbc0e14",
   "metadata": {},
   "source": [
    "### Note Count Analysis (per Composer & Piece)\n"
   ]
  },
  {
   "cell_type": "code",
   "execution_count": null,
   "id": "dafbceb4",
   "metadata": {},
   "outputs": [
    {
     "name": "stderr",
     "output_type": "stream",
     "text": [
      "Processing Bach:  53%|█████▎    | 494/925 [00:05<00:09, 45.01it/s] /opt/anaconda3/envs/dl_final_project/lib/python3.12/site-packages/pretty_midi/pretty_midi.py:100: RuntimeWarning: Tempo, Key or Time signature change events found on non-zero tracks.  This is not a valid type 0 or type 1 MIDI file.  Tempo, Key or Time Signature may be wrong.\n",
      "  warnings.warn(\n",
      "Processing Bach: 100%|██████████| 925/925 [00:30<00:00, 30.04it/s]\n",
      "Processing Beethoven:   5%|▍         | 10/213 [00:00<00:07, 28.48it/s]"
     ]
    },
    {
     "name": "stdout",
     "output_type": "stream",
     "text": [
      "Error reading ../data/midi/Beethoven/Anhang 14-3.mid: Could not decode key with 3 flats and mode 255\n"
     ]
    },
    {
     "name": "stderr",
     "output_type": "stream",
     "text": [
      "Processing Beethoven: 100%|██████████| 213/213 [00:35<00:00,  5.99it/s]\n",
      "Processing Chopin: 100%|██████████| 136/136 [00:07<00:00, 17.26it/s]\n",
      "Processing Mozart:  19%|█▉        | 50/257 [00:02<00:11, 17.26it/s]"
     ]
    },
    {
     "name": "stdout",
     "output_type": "stream",
     "text": [
      "Error reading ../data/midi/Mozart/K281 Piano Sonata n03 3mov.mid: Could not decode key with 2 flats and mode 2\n"
     ]
    },
    {
     "name": "stderr",
     "output_type": "stream",
     "text": [
      "Processing Mozart: 100%|██████████| 257/257 [00:28<00:00,  8.88it/s]"
     ]
    },
    {
     "name": "stdout",
     "output_type": "stream",
     "text": [
      "\n",
      "Bach: 925 files\n",
      "  Min notes: 9\n",
      "  Max notes: 17389\n",
      "  Mean notes: 387.6\n",
      "  Median notes: 97.0\n",
      "\n",
      "Beethoven: 212 files\n",
      "  Min notes: 16\n",
      "  Max notes: 9912\n",
      "  Mean notes: 1549.5\n",
      "  Median notes: 1060.0\n",
      "\n",
      "Chopin: 136 files\n",
      "  Min notes: 61\n",
      "  Max notes: 8865\n",
      "  Mean notes: 1466.6\n",
      "  Median notes: 928.0\n",
      "\n",
      "Mozart: 256 files\n",
      "  Min notes: 51\n",
      "  Max notes: 8980\n",
      "  Mean notes: 1181.7\n",
      "  Median notes: 625.5\n"
     ]
    },
    {
     "name": "stderr",
     "output_type": "stream",
     "text": [
      "\n"
     ]
    }
   ],
   "source": [
    "def count_notes(file_path: Path) -> int:\n",
    "    \"\"\"\n",
    "    Return the number of pitched notes in the FIRST non-drum instrument.\n",
    "    If file can't be parsed, we log and return 0.\n",
    "    \"\"\"\n",
    "    try:\n",
    "        midi = pretty_midi.PrettyMIDI(str(file_path))\n",
    "\n",
    "        # Find the first non-drum instrument that actually has notes.\n",
    "        for instrument in midi.instruments:\n",
    "            if not instrument.is_drum and instrument.notes:\n",
    "                return len(instrument.notes)\n",
    "\n",
    "        # If we got here, either there were only drums or no notes at all.\n",
    "        return 0\n",
    "\n",
    "    except Exception as e:\n",
    "        # Keep going even if one file is messy or corrupt.\n",
    "        print(f\"Error reading {file_path}: {e}\")\n",
    "        return 0\n",
    "\n",
    "# analysis of note counts\n",
    "dataset_folder = Path(\"../data/midi/\")\n",
    "target_composers = [\"Bach\", \"Beethoven\", \"Chopin\", \"Mozart\"]\n",
    "\n",
    "# A dict like {\"Bach\": [count1, count2, ...], ...}\n",
    "note_counts: Dict[str, List[int]] = defaultdict(list)\n",
    "\n",
    "#Scan folders and count notes per file \n",
    "for composer in target_composers:\n",
    "    composer_folder = dataset_folder / composer\n",
    "    # Grab both .mid and .midi files (recursive), then sort for repeatability.\n",
    "    midi_files = sorted(\n",
    "        list(composer_folder.rglob(\"*.mid\")) + list(composer_folder.rglob(\"*.midi\"))\n",
    "    )\n",
    "\n",
    "    for file_path in tqdm(midi_files, desc=f\"Processing {composer}\"):\n",
    "        n = count_notes(file_path)\n",
    "        if n > 0:  # ignore empty/invalid files so stats aren't skewed by zeros\n",
    "            note_counts[composer].append(n)\n",
    "\n",
    "# Print summary stats\n",
    "for composer, counts in note_counts.items():\n",
    "    counts_arr = np.asarray(counts)\n",
    "    if counts_arr.size == 0:\n",
    "        print(f\"\\n{composer}: 0 usable files\")\n",
    "        continue\n",
    "\n",
    "    print(f\"\\n{composer}: {counts_arr.size} files\")\n",
    "    print(f\"  Min notes: {counts_arr.min()}\")\n",
    "    print(f\"  Max notes: {counts_arr.max()}\")\n",
    "    print(f\"  Mean notes: {counts_arr.mean():.1f}\")\n",
    "    print(f\"  Median notes: {np.median(counts_arr):.1f}\")"
   ]
  },
  {
   "cell_type": "markdown",
   "id": "77c303f4",
   "metadata": {},
   "source": [
    "### Note-Count Distributions (per Composer)\n"
   ]
  },
  {
   "cell_type": "code",
   "execution_count": 6,
   "id": "09167eb1",
   "metadata": {},
   "outputs": [
    {
     "data": {
      "image/png": "[encoded data removed]",
      "text/plain": [
       "<Figure size 1000x600 with 1 Axes>"
      ]
     },
     "metadata": {},
     "output_type": "display_data"
    }
   ],
   "source": [
    "#Plot distributions per composer \n",
    "plt.figure(figsize=(10, 6))\n",
    "for composer, counts in note_counts.items():\n",
    "    if counts:  # only plot if we have data\n",
    "        plt.hist(counts, bins=30, alpha=0.5, label=composer, range=(0,2000))\n",
    "\n",
    "plt.xlabel(\"Number of notes (tokens) per song\")\n",
    "plt.ylabel(\"Count of songs\")\n",
    "plt.title(\"Note count distribution per composer\")\n",
    "plt.legend()\n",
    "plt.tight_layout()\n",
    "plt.show() "
   ]
  },
  {
   "cell_type": "markdown",
   "id": "933c5042",
   "metadata": {},
   "source": [
    "### Track Duration Analyses"
   ]
  },
  {
   "cell_type": "code",
   "execution_count": 21,
   "id": "2a5cd1ff",
   "metadata": {},
   "outputs": [
    {
     "name": "stdout",
     "output_type": "stream",
     "text": [
      "MThd not found. Probably not a MIDI file\n",
      "../data/midi/Bach/readme\n",
      "Could not decode key with 3 flats and mode 255\n",
      "../data/midi/Beethoven/Anhang 14-3.mid\n",
      "Could not decode key with 2 flats and mode 2\n",
      "../data/midi/Mozart/K281 Piano Sonata n03 3mov.mid\n"
     ]
    }
   ],
   "source": [
    "base_midi_path = r\"../data/midi/\"\n",
    "sub_dirs = [\"Bach\", \"Beethoven\", \"Chopin\", \"Mozart\"]\n",
    "track_lengths = []\n",
    "\n",
    "# loop through each composer directory\n",
    "for dir in sub_dirs:\n",
    "    path = f\"{base_midi_path}{dir}/\"\n",
    "    files = os.listdir(path)\n",
    "\n",
    "    for file in files:\n",
    "        file_path = path + file\n",
    "        try:\n",
    "            track_lengths.append((dir, file, midi_track_length(file_path)))\n",
    "        except Exception as e:\n",
    "            print(e)\n",
    "            print(file_path)"
   ]
  },
  {
   "cell_type": "code",
   "execution_count": 24,
   "id": "d6b9784e",
   "metadata": {},
   "outputs": [
    {
     "data": {
      "text/plain": [
       "composer\n",
       "Bach         44.720578\n",
       "Beethoven    31.414792\n",
       "Chopin        8.356854\n",
       "Mozart       28.512761\n",
       "Name: length, dtype: float64"
      ]
     },
     "execution_count": 24,
     "metadata": {},
     "output_type": "execute_result"
    }
   ],
   "source": [
    "track_lengths_df = pd.DataFrame(track_lengths, columns=[\"composer\", \"file\", \"length\"])\n",
    "track_lengths_df.groupby(\"composer\")[\"length\"].sum()/3600"
   ]
  },
  {
   "cell_type": "code",
   "execution_count": 27,
   "id": "16fddc4c",
   "metadata": {},
   "outputs": [
    {
     "data": {
      "text/html": [
       "<div>\n",
       "<style scoped>\n",
       "    .dataframe tbody tr th:only-of-type {\n",
       "        vertical-align: middle;\n",
       "    }\n",
       "\n",
       "    .dataframe tbody tr th {\n",
       "        vertical-align: top;\n",
       "    }\n",
       "\n",
       "    .dataframe thead th {\n",
       "        text-align: right;\n",
       "    }\n",
       "</style>\n",
       "<table border=\"1\" class=\"dataframe\">\n",
       "  <thead>\n",
       "    <tr style=\"text-align: right;\">\n",
       "      <th></th>\n",
       "      <th>composer</th>\n",
       "      <th>file</th>\n",
       "      <th>length</th>\n",
       "    </tr>\n",
       "  </thead>\n",
       "  <tbody>\n",
       "    <tr>\n",
       "      <th>815</th>\n",
       "      <td>Bach</td>\n",
       "      <td>The Art of the Fugue BWV1080.mid</td>\n",
       "      <td>5209.310787</td>\n",
       "    </tr>\n",
       "    <tr>\n",
       "      <th>940</th>\n",
       "      <td>Bach</td>\n",
       "      <td>Bwv1052 Harpsichord Concerto n1b.mid</td>\n",
       "      <td>1341.465240</td>\n",
       "    </tr>\n",
       "    <tr>\n",
       "      <th>162</th>\n",
       "      <td>Bach</td>\n",
       "      <td>Bwv1050 Brandenburg Concert n5 1-2-3movs.MID</td>\n",
       "      <td>1271.383007</td>\n",
       "    </tr>\n",
       "    <tr>\n",
       "      <th>321</th>\n",
       "      <td>Bach</td>\n",
       "      <td>Bwv0816 French Suite n5.mid</td>\n",
       "      <td>1179.419324</td>\n",
       "    </tr>\n",
       "    <tr>\n",
       "      <th>376</th>\n",
       "      <td>Bach</td>\n",
       "      <td>Bwv0815 French Suite n4.mid</td>\n",
       "      <td>1152.905274</td>\n",
       "    </tr>\n",
       "    <tr>\n",
       "      <th>...</th>\n",
       "      <td>...</td>\n",
       "      <td>...</td>\n",
       "      <td>...</td>\n",
       "    </tr>\n",
       "    <tr>\n",
       "      <th>244</th>\n",
       "      <td>Bach</td>\n",
       "      <td>028100b_.mid</td>\n",
       "      <td>21.875000</td>\n",
       "    </tr>\n",
       "    <tr>\n",
       "      <th>866</th>\n",
       "      <td>Bach</td>\n",
       "      <td>016506b_.mid</td>\n",
       "      <td>21.600586</td>\n",
       "    </tr>\n",
       "    <tr>\n",
       "      <th>636</th>\n",
       "      <td>Bach</td>\n",
       "      <td>006206bv.mid</td>\n",
       "      <td>20.000000</td>\n",
       "    </tr>\n",
       "    <tr>\n",
       "      <th>6</th>\n",
       "      <td>Bach</td>\n",
       "      <td>006206b_.mid</td>\n",
       "      <td>20.000000</td>\n",
       "    </tr>\n",
       "    <tr>\n",
       "      <th>640</th>\n",
       "      <td>Bach</td>\n",
       "      <td>028600b_.mid</td>\n",
       "      <td>17.500000</td>\n",
       "    </tr>\n",
       "  </tbody>\n",
       "</table>\n",
       "<p>1024 rows × 3 columns</p>\n",
       "</div>"
      ],
      "text/plain": [
       "    composer                                          file       length\n",
       "815     Bach              The Art of the Fugue BWV1080.mid  5209.310787\n",
       "940     Bach          Bwv1052 Harpsichord Concerto n1b.mid  1341.465240\n",
       "162     Bach  Bwv1050 Brandenburg Concert n5 1-2-3movs.MID  1271.383007\n",
       "321     Bach                   Bwv0816 French Suite n5.mid  1179.419324\n",
       "376     Bach                   Bwv0815 French Suite n4.mid  1152.905274\n",
       "..       ...                                           ...          ...\n",
       "244     Bach                                  028100b_.mid    21.875000\n",
       "866     Bach                                  016506b_.mid    21.600586\n",
       "636     Bach                                  006206bv.mid    20.000000\n",
       "6       Bach                                  006206b_.mid    20.000000\n",
       "640     Bach                                  028600b_.mid    17.500000\n",
       "\n",
       "[1024 rows x 3 columns]"
      ]
     },
     "execution_count": 27,
     "metadata": {},
     "output_type": "execute_result"
    }
   ],
   "source": [
    "track_lengths_df[track_lengths_df[\"composer\"]\n",
    "                 == \"Bach\"].sort_values(\"length\", axis=0, ascending=False)"
   ]
  },
  {
   "cell_type": "code",
   "execution_count": 36,
   "id": "e17d60e8",
   "metadata": {},
   "outputs": [
    {
     "data": {
      "text/html": [
       "<div>\n",
       "<style scoped>\n",
       "    .dataframe tbody tr th:only-of-type {\n",
       "        vertical-align: middle;\n",
       "    }\n",
       "\n",
       "    .dataframe tbody tr th {\n",
       "        vertical-align: top;\n",
       "    }\n",
       "\n",
       "    .dataframe thead tr th {\n",
       "        text-align: left;\n",
       "    }\n",
       "\n",
       "    .dataframe thead tr:last-of-type th {\n",
       "        text-align: right;\n",
       "    }\n",
       "</style>\n",
       "<table border=\"1\" class=\"dataframe\">\n",
       "  <thead>\n",
       "    <tr>\n",
       "      <th></th>\n",
       "      <th colspan=\"8\" halign=\"left\">length</th>\n",
       "    </tr>\n",
       "    <tr>\n",
       "      <th></th>\n",
       "      <th>count</th>\n",
       "      <th>mean</th>\n",
       "      <th>std</th>\n",
       "      <th>min</th>\n",
       "      <th>25%</th>\n",
       "      <th>50%</th>\n",
       "      <th>75%</th>\n",
       "      <th>max</th>\n",
       "    </tr>\n",
       "    <tr>\n",
       "      <th>composer</th>\n",
       "      <th></th>\n",
       "      <th></th>\n",
       "      <th></th>\n",
       "      <th></th>\n",
       "      <th></th>\n",
       "      <th></th>\n",
       "      <th></th>\n",
       "      <th></th>\n",
       "    </tr>\n",
       "  </thead>\n",
       "  <tbody>\n",
       "    <tr>\n",
       "      <th>Bach</th>\n",
       "      <td>1024</td>\n",
       "      <td>157</td>\n",
       "      <td>246</td>\n",
       "      <td>18</td>\n",
       "      <td>43</td>\n",
       "      <td>77</td>\n",
       "      <td>191</td>\n",
       "      <td>5209</td>\n",
       "    </tr>\n",
       "    <tr>\n",
       "      <th>Beethoven</th>\n",
       "      <td>219</td>\n",
       "      <td>516</td>\n",
       "      <td>489</td>\n",
       "      <td>22</td>\n",
       "      <td>226</td>\n",
       "      <td>415</td>\n",
       "      <td>676</td>\n",
       "      <td>5032</td>\n",
       "    </tr>\n",
       "    <tr>\n",
       "      <th>Chopin</th>\n",
       "      <td>136</td>\n",
       "      <td>221</td>\n",
       "      <td>185</td>\n",
       "      <td>23</td>\n",
       "      <td>93</td>\n",
       "      <td>158</td>\n",
       "      <td>312</td>\n",
       "      <td>1353</td>\n",
       "    </tr>\n",
       "    <tr>\n",
       "      <th>Mozart</th>\n",
       "      <td>256</td>\n",
       "      <td>401</td>\n",
       "      <td>273</td>\n",
       "      <td>26</td>\n",
       "      <td>207</td>\n",
       "      <td>348</td>\n",
       "      <td>530</td>\n",
       "      <td>1478</td>\n",
       "    </tr>\n",
       "  </tbody>\n",
       "</table>\n",
       "</div>"
      ],
      "text/plain": [
       "          length                                   \n",
       "           count mean  std min  25%  50%  75%   max\n",
       "composer                                           \n",
       "Bach        1024  157  246  18   43   77  191  5209\n",
       "Beethoven    219  516  489  22  226  415  676  5032\n",
       "Chopin       136  221  185  23   93  158  312  1353\n",
       "Mozart       256  401  273  26  207  348  530  1478"
      ]
     },
     "execution_count": 36,
     "metadata": {},
     "output_type": "execute_result"
    }
   ],
   "source": [
    "track_lengths_df.groupby(\"composer\").describe().apply(lambda x: x.apply(lambda x: format(x, \".0f\")))"
   ]
  },
  {
   "cell_type": "code",
   "execution_count": 33,
   "id": "6482dd43",
   "metadata": {},
   "outputs": [
    {
     "data": {
      "text/plain": [
       "5209.31078725735"
      ]
     },
     "execution_count": 33,
     "metadata": {},
     "output_type": "execute_result"
    }
   ],
   "source": [
    "track_lengths_df[track_lengths_df[\"composer\"]==\"Bach\"][\"length\"].max()"
   ]
  }
 ],
 "metadata": {
  "kernelspec": {
   "display_name": "dl_final_project",
   "language": "python",
   "name": "python3"
  },
  "language_info": {
   "codemirror_mode": {
    "name": "ipython",
    "version": 3
   },
   "file_extension": ".py",
   "mimetype": "text/x-python",
   "name": "python",
   "nbconvert_exporter": "python",
   "pygments_lexer": "ipython3",
   "version": "3.12.11"
  }
 },
 "nbformat": 4,
 "nbformat_minor": 5
}
