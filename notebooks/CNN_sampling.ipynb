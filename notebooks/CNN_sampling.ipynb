{
 "cells": [
  {
   "cell_type": "code",
   "execution_count": 1,
   "id": "480df867",
   "metadata": {},
   "outputs": [
    {
     "name": "stderr",
     "output_type": "stream",
     "text": [
      "2025-08-04 01:04:17.124898: I tensorflow/core/platform/cpu_feature_guard.cc:210] This TensorFlow binary is optimized to use available CPU instructions in performance-critical operations.\n",
      "To enable the following instructions: AVX2 AVX512F AVX512_VNNI FMA, in other operations, rebuild TensorFlow with the appropriate compiler flags.\n"
     ]
    }
   ],
   "source": [
    "# third party imports\n",
    "import os\n",
    "import sys\n",
    "import numpy as np\n",
    "import tensorflow as tf\n",
    "import seaborn as sns\n",
    "import matplotlib.pyplot as plt\n",
    "\n",
    "# adding preprocessing directory to path\n",
    "current_dir = os.path.dirname(os.path.abspath(\"preprocessing\"))\n",
    "parent_dir = os.path.join(current_dir, '..')\n",
    "sys.path.append(parent_dir)\n",
    "\n",
    "# project imports\n",
    "from preprocessing.common import (midi_notes_dataframe, \n",
    "                                  midi_to_array, \n",
    "                                  midi_events_dataframe, \n",
    "                                  midi_track_length)\n",
    "\n",
    "from preprocessing.audio_to_spectrogram import reducer_sampler"
   ]
  },
  {
   "cell_type": "code",
   "execution_count": null,
   "id": "c9585ef6",
   "metadata": {},
   "outputs": [
    {
     "name": "stdout",
     "output_type": "stream",
     "text": [
      "../data/spectrograms/Mozart_1/Piano Concerto n16 K451 1mov_261132_264516.png\n",
      "success\n",
      "../data/spectrograms/Mozart_1/Piano Concerto n6 K238 3mov_185531_187640.png\n",
      "success\n",
      "../data/spectrograms/Mozart_1/Piano Sonata n10 K330_209835_211854.png\n",
      "success\n",
      "../data/spectrograms/Mozart_1/Rondo_18562_20287.png\n",
      "success\n",
      "../data/spectrograms/Mozart_1/Sonatina n21 3mov_45185_46433.png\n",
      "success\n"
     ]
    }
   ],
   "source": [
    "base_path = r\"../data/midi/\"\n",
    "sub_dirs = [\"Mozart\"]\n",
    "sample_seconds = 3\n",
    "silence_threshold = 0.20\n",
    "sample_times = 4\n",
    "\n",
    "\n",
    "for dir in sub_dirs:\n",
    "    path = f\"{base_path}{dir}/\"\n",
    "    files = os.listdir(path)\n",
    "\n",
    "    for _ in range(205):\n",
    "        file = np.random.choice(files)\n",
    "        file_path = path + file\n",
    "\n",
    "        try:\n",
    "            midi_df = midi_notes_dataframe(file_path)\n",
    "            array = midi_to_array(midi_df)\n",
    "            duration = midi_track_length(file_path)\n",
    "        except Exception as e:\n",
    "            print(e)\n",
    "            pass\n",
    "        for i in range(sample_times):\n",
    "            try:\n",
    "                start, stop, sample = reducer_sampler(\n",
    "                    array, duration, sample_seconds, silence_threshold)\n",
    "                dest_path = f\"../data/spectrograms/{dir}_1/{file[:-4]}_{start}_{stop}.png\"\n",
    "                print(dest_path)\n",
    "                plt.imsave(dest_path, sample)\n",
    "                print(\"success\")\n",
    "            except Exception as e:\n",
    "                print(e)\n",
    "                pass"
   ]
  }
 ],
 "metadata": {
  "kernelspec": {
   "display_name": "dl_final_project",
   "language": "python",
   "name": "python3"
  },
  "language_info": {
   "codemirror_mode": {
    "name": "ipython",
    "version": 3
   },
   "file_extension": ".py",
   "mimetype": "text/x-python",
   "name": "python",
   "nbconvert_exporter": "python",
   "pygments_lexer": "ipython3",
   "version": "3.12.11"
  }
 },
 "nbformat": 4,
 "nbformat_minor": 5
}
