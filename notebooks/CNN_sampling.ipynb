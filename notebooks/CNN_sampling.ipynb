{
  "cells": [
    {
      "cell_type": "code",
      "execution_count": null,
      "id": "9xZxdp-hvL4f",
      "metadata": {
        "colab": {
          "base_uri": "https://localhost:8080/"
        },
        "id": "9xZxdp-hvL4f",
        "outputId": "a0c160df-4e94-470e-c061-a81f11cb547c"
      },
      "outputs": [],
      "source": [
        "!apt-get install -y fluidsynth\n",
        "!pip install pyfluidsynth pretty_midi"
      ]
    },
    {
      "cell_type": "code",
      "execution_count": null,
      "id": "J4exc85Qt1uS",
      "metadata": {
        "colab": {
          "base_uri": "https://localhost:8080/"
        },
        "id": "J4exc85Qt1uS",
        "outputId": "34a852ff-f9a2-43bb-c998-a53c59824712"
      },
      "outputs": [],
      "source": [
        "from google.colab import drive\n",
        "drive.mount('/content/drive')"
      ]
    },
    {
      "cell_type": "code",
      "execution_count": null,
      "id": "480df867",
      "metadata": {
        "colab": {
          "base_uri": "https://localhost:8080/",
          "height": 70
        },
        "id": "480df867",
        "outputId": "463a9b0d-cd3e-4bc5-a824-298f3d9914dc"
      },
      "outputs": [],
      "source": [
        "# third party imports\n",
        "import os\n",
        "import sys\n",
        "import numpy as np\n",
        "import matplotlib.pyplot as plt\n",
        "\n",
        "from preprocessing.audio_to_spectrogram import (\n",
        "    reducer_sampler,\n",
        "    midi_notes_dataframe,\n",
        "    midi_to_array,\n",
        "    midi_track_length,\n",
        "    midi_to_spectrogram,\n",
        "    spectrogram_sample)\n",
        "\n",
        "\n",
        "# adding preprocessing directory to path\n",
        "current_dir = os.path.dirname(os.path.abspath(\"preprocessing\"))\n",
        "parent_dir = os.path.join(current_dir, '..')\n",
        "sys.path.append(parent_dir)"
      ]
    },
    {
      "cell_type": "code",
      "execution_count": null,
      "id": "c9585ef6",
      "metadata": {
        "colab": {
          "base_uri": "https://localhost:8080/",
          "height": 226
        },
        "id": "c9585ef6",
        "outputId": "6590df7f-26f9-4c92-acbf-6114759eecfb"
      },
      "outputs": [],
      "source": [
        "# Simple array generation pipeline example\n",
        "base_path = r\"../data/midi/\"\n",
        "sub_dirs = [\"Mozart\"]\n",
        "sample_seconds = 3\n",
        "silence_threshold = 0.20\n",
        "sample_times = 4\n",
        "\n",
        "\n",
        "for dir in sub_dirs:\n",
        "    path = f\"{base_path}{dir}/\"\n",
        "    files = os.listdir(path)\n",
        "\n",
        "    for _ in range(1):\n",
        "        file = np.random.choice(files)\n",
        "        file_path = path + file\n",
        "\n",
        "        try:\n",
        "            midi_df = midi_notes_dataframe(file_path)\n",
        "            array = midi_to_array(midi_df)\n",
        "            duration = midi_track_length(file_path)\n",
        "        except Exception as e:\n",
        "            print(e)\n",
        "            pass\n",
        "        for i in range(sample_times):\n",
        "            try:\n",
        "                dest_path = f\"../data/spectrograms/{dir}_1/{file[:-4]}_{start}_{stop}.png\"\n",
        "                print(dest_path)\n",
        "                start, stop, sample = reducer_sampler(\n",
        "                    array, duration, sample_seconds, silence_threshold)\n",
        "\n",
        "                plt.imsave(dest_path, sample)\n",
        "                print(\"success\")\n",
        "            except Exception as e:\n",
        "                print(e)\n",
        "                pass"
      ]
    },
    {
      "cell_type": "code",
      "execution_count": null,
      "id": "68f80e97",
      "metadata": {
        "colab": {
          "base_uri": "https://localhost:8080/",
          "height": 1000
        },
        "id": "68f80e97",
        "outputId": "2b1b165c-d0c2-4c5d-e949-416c1cba1d14"
      },
      "outputs": [],
      "source": [
        "# MEL Spectrogram generation pipeline example.\n",
        "base_midi_path = r\"/content/drive/MyDrive/midi/\"\n",
        "sub_dirs = [\"Beethoven\"]\n",
        "soundfont = '/content/drive/MyDrive/FluidR3_GM/FluidR3_GM.sf2'\n",
        "\n",
        "sample_seconds = 3\n",
        "sample_times = 4\n",
        "samples = 0\n",
        "\n",
        "for dir in sub_dirs:\n",
        "    path = f\"{base_midi_path}{dir}/\"\n",
        "    files = os.listdir(path)\n",
        "\n",
        "    for _ in range(75):\n",
        "        file = np.random.choice(files)\n",
        "        file_path = path + file\n",
        "        print(file_path)\n",
        "        try:\n",
        "            array, sr = midi_to_spectrogram(file_path, soundfont)\n",
        "        except Exception as e:\n",
        "            print(e)\n",
        "            pass\n",
        "        for i in range(sample_times):\n",
        "            try:\n",
        "                start, stop, sample = spectrogram_sample(\n",
        "                    array, sr, sample_seconds)\n",
        "                dest_path = f\"/content/drive/MyDrive/mel_spectrograms_3sec/{dir}/{file[:-4]}_{start}_{stop}.png\"\n",
        "                plt.imsave(dest_path, sample)\n",
        "                samples += 1\n",
        "                print(\"success \", samples)\n",
        "            except Exception as e:\n",
        "                print(e)\n",
        "                pass"
      ]
    }
  ],
  "metadata": {
    "accelerator": "GPU",
    "colab": {
      "gpuType": "T4",
      "provenance": []
    },
    "kernelspec": {
      "display_name": "dl_final_project",
      "language": "python",
      "name": "python3"
    },
    "language_info": {
      "codemirror_mode": {
        "name": "ipython",
        "version": 3
      },
      "file_extension": ".py",
      "mimetype": "text/x-python",
      "name": "python",
      "nbconvert_exporter": "python",
      "pygments_lexer": "ipython3",
      "version": "3.12.11"
    }
  },
  "nbformat": 4,
  "nbformat_minor": 5
}
